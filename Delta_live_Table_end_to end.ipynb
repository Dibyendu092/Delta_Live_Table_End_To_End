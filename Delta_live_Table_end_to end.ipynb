{
 "cells": [
  {
   "cell_type": "code",
   "execution_count": 0,
   "metadata": {
    "application/vnd.databricks.v1+cell": {
     "cellMetadata": {
      "byteLimit": 2048000,
      "implicitDf": true,
      "rowLimit": 10000
     },
     "inputWidgets": {},
     "nuid": "4794381e-f29b-4332-90b1-eccf458ebbad",
     "showTitle": false,
     "tableResultSettingsMap": {},
     "title": ""
    }
   },
   "outputs": [],
   "source": [
    "\n",
    "USE CATALOG dibyendu_catalog;\n",
    "CREATE STREAMING LIVE TABLE sales\n",
    "AS SELECT *, current_timestamp() AS ingestion_date FROM stream(dibyendu_catalog.delta_demo_pipeline_schema.sales);"
   ]
  },
  {
   "cell_type": "code",
   "execution_count": 0,
   "metadata": {
    "application/vnd.databricks.v1+cell": {
     "cellMetadata": {},
     "inputWidgets": {},
     "nuid": "8c18cdd6-d868-4fcd-bda2-731c92547bc1",
     "showTitle": false,
     "tableResultSettingsMap": {},
     "title": ""
    }
   },
   "outputs": [],
   "source": [
    "\n",
    "USE CATALOG dibyendu_catalog;\n",
    "CREATE STREAMING LIVE TABLE silver_sales\n",
    "(\n",
    "  CONSTRAINT valid_order_id EXPECT(order_id is NOT NULL) ON VIOLATION DROP ROW\n",
    ")\n",
    "AS SELECT distinct * FROM stream(LIVE.sales);"
   ]
  },
  {
   "cell_type": "code",
   "execution_count": 0,
   "metadata": {
    "application/vnd.databricks.v1+cell": {
     "cellMetadata": {},
     "inputWidgets": {},
     "nuid": "dbd95b25-9952-4813-8e4b-2dc45449e73a",
     "showTitle": false,
     "tableResultSettingsMap": {},
     "title": ""
    }
   },
   "outputs": [],
   "source": [
    "USE CATALOG dibyendu_catalog;\n",
    "CREATE STREAMING LIVE TABLE customes\n",
    "AS SELECT *, current_timestamp() AS ingestion_date FROM stream(dibyendu_catalog.delta_demo_pipeline_schema.customers);"
   ]
  },
  {
   "cell_type": "code",
   "execution_count": 0,
   "metadata": {
    "application/vnd.databricks.v1+cell": {
     "cellMetadata": {},
     "inputWidgets": {},
     "nuid": "3d8a1953-c067-40b3-8ebe-62648c722041",
     "showTitle": false,
     "tableResultSettingsMap": {},
     "title": ""
    }
   },
   "outputs": [],
   "source": [
    "-- Create and populate the target table.\n",
    "CREATE OR REFRESH STREAMING TABLE customer_silver;\n",
    "\n",
    "APPLY CHANGES INTO\n",
    "  Live.customer_silver\n",
    "FROM\n",
    "  stream(Live.customes)\n",
    "KEYS\n",
    "  (customer_id)\n",
    "APPLY AS DELETE WHEN\n",
    "  operation = \"DELETE\"\n",
    "SEQUENCE BY\n",
    "  sequenceNum\n",
    "COLUMNS * EXCEPT\n",
    "  (operation, sequenceNum, ingestion_date)\n",
    "STORED AS\n",
    "  SCD TYPE 2;"
   ]
  },
  {
   "cell_type": "code",
   "execution_count": 0,
   "metadata": {
    "application/vnd.databricks.v1+cell": {
     "cellMetadata": {},
     "inputWidgets": {},
     "nuid": "ae8a0b76-28bc-4a3b-b0ed-b64611c4c018",
     "showTitle": false,
     "tableResultSettingsMap": {},
     "title": ""
    }
   },
   "outputs": [],
   "source": [
    "create streaming table customer_silver_active as\n",
    "select customer_id, customer_name,customer_email,customer_city,customer_state from stream(live.customer_silver)\n",
    "where __END_AT is NULL"
   ]
  },
  {
   "cell_type": "code",
   "execution_count": 0,
   "metadata": {
    "application/vnd.databricks.v1+cell": {
     "cellMetadata": {},
     "inputWidgets": {},
     "nuid": "be0a3244-5c0d-4ee5-a228-f72aee74e6fa",
     "showTitle": false,
     "tableResultSettingsMap": {},
     "title": ""
    }
   },
   "outputs": [],
   "source": [
    "USE CATALOG dibyendu_catalog;\n",
    "CREATE STREAMING LIVE TABLE products\n",
    "AS SELECT *, current_timestamp() AS ingestion_date FROM stream(dibyendu_catalog.delta_demo_pipeline_schema.products);"
   ]
  },
  {
   "cell_type": "code",
   "execution_count": 0,
   "metadata": {
    "application/vnd.databricks.v1+cell": {
     "cellMetadata": {},
     "inputWidgets": {},
     "nuid": "775cf683-f4d4-4249-97b4-fe92559e971e",
     "showTitle": false,
     "tableResultSettingsMap": {},
     "title": ""
    }
   },
   "outputs": [],
   "source": [
    "-- Create and populate the target table.\n",
    "CREATE OR REFRESH STREAMING TABLE products_silver;\n",
    "\n",
    "APPLY CHANGES INTO\n",
    "  Live.products_silver\n",
    "FROM\n",
    "  stream(Live.products)\n",
    "KEYS\n",
    "  (product_id)\n",
    "APPLY AS DELETE WHEN\n",
    "  operation = \"DELETE\"\n",
    "APPLY AS TRUNCATE WHEN\n",
    "  operation = \"TRUNCATE\"\n",
    "SEQUENCE BY\n",
    "  seqNum\n",
    "COLUMNS * EXCEPT\n",
    "  (operation, seqNum, ingestion_date)\n",
    "STORED AS\n",
    "  SCD TYPE 1;"
   ]
  },
  {
   "cell_type": "code",
   "execution_count": 0,
   "metadata": {
    "application/vnd.databricks.v1+cell": {
     "cellMetadata": {},
     "inputWidgets": {},
     "nuid": "8c54c3af-1ecf-418b-894a-79e0798300c2",
     "showTitle": false,
     "tableResultSettingsMap": {},
     "title": ""
    }
   },
   "outputs": [],
   "source": [
    "create live table total_sales_customer_gold_MV as \n",
    "SELECT \n",
    "    c.customer_id,\n",
    "    c.customer_name,\n",
    "    round(SUM(s.total_amount)) AS total_sales,\n",
    "    SUM(s.discount_amount) AS total_discount\n",
    "FROM LIVE.silver_sales s\n",
    "JOIN LIVE.customer_silver_active c\n",
    "    ON s.customer_id = c.customer_id\n",
    "GROUP BY c.customer_id, c.customer_name\n",
    "ORDER BY total_sales DESC;"
   ]
  },
  {
   "cell_type": "code",
   "execution_count": 0,
   "metadata": {
    "application/vnd.databricks.v1+cell": {
     "cellMetadata": {},
     "inputWidgets": {},
     "nuid": "00d9d28c-5415-41e1-b78a-bc3f9c350945",
     "showTitle": false,
     "tableResultSettingsMap": {},
     "title": ""
    }
   },
   "outputs": [],
   "source": [
    "create live table total_sales_category_gold_MV as\n",
    "SELECT \n",
    "    p.product_category,\n",
    "    round(SUM(s.total_amount)) AS total_sales\n",
    "FROM LIVE.silver_sales s\n",
    "JOIN live.products_silver p\n",
    "    ON s.product_id = p.product_id\n",
    "GROUP BY p.product_category\n",
    "ORDER BY total_sales DESC;"
   ]
  }
 ],
 "metadata": {
  "application/vnd.databricks.v1+notebook": {
   "computePreferences": null,
   "dashboards": [],
   "environmentMetadata": {
    "base_environment": "",
    "environment_version": "2"
   },
   "language": "sql",
   "notebookMetadata": {
    "mostRecentlyExecutedCommandWithImplicitDF": {
     "commandId": -1,
     "dataframes": [
      "_sqldf"
     ]
    },
    "pythonIndentUnit": 4
   },
   "notebookName": "Delta_live_Table_end_to end",
   "widgets": {}
  },
  "language_info": {
   "name": "sql"
  }
 },
 "nbformat": 4,
 "nbformat_minor": 0
}
